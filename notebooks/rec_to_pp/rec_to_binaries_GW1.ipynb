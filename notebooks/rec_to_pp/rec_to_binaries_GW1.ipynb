{
 "cells": [
  {
   "cell_type": "code",
   "execution_count": null,
   "metadata": {},
   "outputs": [],
   "source": []
  },
  {
   "cell_type": "code",
   "execution_count": 1,
   "metadata": {},
   "outputs": [],
   "source": [
    "import logging\n",
    "from rec_to_binaries import extract_trodes_rec_file\n",
    "\n",
    "logging.basicConfig(level='INFO', format='%(asctime)s %(message)s',\n",
    "                    datefmt='%d-%b-%y %H:%M:%S')\n",
    "\n",
    "data_dir = '/mnt/domino/data/'\n",
    "# animal = 'RN2'\n",
    "animal = 'GW1'\n",
    "# data_dir = '/stelmo/demetris/'"
   ]
  },
  {
   "cell_type": "code",
   "execution_count": 4,
   "metadata": {},
   "outputs": [
    {
     "name": "stderr",
     "output_type": "stream",
     "text": [
      "16-Oct-20 13:14:15 Extracting analog data...\n"
     ]
    },
    {
     "name": "stdout",
     "output_type": "stream",
     "text": [
      "(ID: 0) Running exportanalog on animal GW1 date 20201007 epoch 01\n",
      "(ID: 0) Full command: ['exportanalog', '-rec', '/mnt/domino/data/GW1/raw/20201007/20201007_GW1_01.rec', '-outputdirectory', '/mnt/domino/data/GW1/preprocessing/20201007', '-output', '20201007_GW1_01']\n"
     ]
    },
    {
     "name": "stderr",
     "output_type": "stream",
     "text": [
      "16-Oct-20 13:14:20 Extracting DIO...\n"
     ]
    },
    {
     "name": "stdout",
     "output_type": "stream",
     "text": [
      "(ID: 0) Done running ['exportanalog', '-rec', '/mnt/domino/data/GW1/raw/20201007/20201007_GW1_01.rec', '-outputdirectory', '/mnt/domino/data/GW1/preprocessing/20201007', '-output', '20201007_GW1_01']\n",
      "(ID: 0) Exporting analog data...\n",
      "(ID: 0) 0 %\n",
      "(ID: 0) 5 %\n",
      "(ID: 0) 10 %\n",
      "(ID: 0) 15 %\n",
      "(ID: 0) 20 %\n",
      "(ID: 0) 25 %\n",
      "(ID: 0) 30 %\n",
      "(ID: 0) 35 %\n",
      "(ID: 0) 40 %\n",
      "(ID: 0) 44 %\n",
      "(ID: 0) 50 %\n",
      "(ID: 0) 55 %\n",
      "(ID: 0) 60 %\n",
      "(ID: 0) 65 %\n",
      "(ID: 0) 70 %\n",
      "(ID: 0) 75 %\n",
      "(ID: 0) 80 %\n",
      "(ID: 0) 85 %\n",
      "(ID: 0) 90 %\n",
      "(ID: 0) 94 %\n",
      "(ID: 0) \n",
      "(ID: 0) Done\n",
      "(ID: 0) Running exportdio on animal GW1 date 20201007 epoch 01\n",
      "(ID: 0) Full command: ['exportdio', '-rec', '/mnt/domino/data/GW1/raw/20201007/20201007_GW1_01.rec', '-outputdirectory', '/mnt/domino/data/GW1/preprocessing/20201007', '-output', '20201007_GW1_01']\n"
     ]
    },
    {
     "name": "stderr",
     "output_type": "stream",
     "text": [
      "16-Oct-20 13:14:46 Extracting LFP...\n"
     ]
    },
    {
     "name": "stdout",
     "output_type": "stream",
     "text": [
      "(ID: 0) Done running ['exportdio', '-rec', '/mnt/domino/data/GW1/raw/20201007/20201007_GW1_01.rec', '-outputdirectory', '/mnt/domino/data/GW1/preprocessing/20201007', '-output', '20201007_GW1_01']\n",
      "(ID: 0) Exporting DIO data...\n",
      "(ID: 0) 0 %\n",
      "(ID: 0) 5 %\n",
      "(ID: 0) 10 %\n",
      "(ID: 0) 15 %\n",
      "(ID: 0) 20 %\n",
      "(ID: 0) 25 %\n",
      "(ID: 0) 30 %\n",
      "(ID: 0) 35 %\n",
      "(ID: 0) 40 %\n",
      "(ID: 0) 44 %\n",
      "(ID: 0) 50 %\n",
      "(ID: 0) 55 %\n",
      "(ID: 0) 60 %\n",
      "(ID: 0) 65 %\n",
      "(ID: 0) 70 %\n",
      "(ID: 0) 75 %\n",
      "(ID: 0) 80 %\n",
      "(ID: 0) 85 %\n",
      "(ID: 0) 90 %\n",
      "(ID: 0) 94 %\n",
      "(ID: 0) \n",
      "(ID: 0) Done\n",
      "(ID: 0) Running exportLFP on animal GW1 date 20201007 epoch 01\n",
      "(ID: 0) Full command: ['exportLFP', '-rec', '/mnt/domino/data/GW1/raw/20201007/20201007_GW1_01.rec', '-outputdirectory', '/mnt/domino/data/GW1/preprocessing/20201007', '-output', '20201007_GW1_01', '-highpass', '0', '-lowpass', '400', '-interp', '0', '-userefs', '0', '-outputrate', '1500']\n"
     ]
    },
    {
     "name": "stderr",
     "output_type": "stream",
     "text": [
      "16-Oct-20 13:14:49 Extracting mda...\n"
     ]
    },
    {
     "name": "stdout",
     "output_type": "stream",
     "text": [
      "(ID: 0) Done running ['exportLFP', '-rec', '/mnt/domino/data/GW1/raw/20201007/20201007_GW1_01.rec', '-outputdirectory', '/mnt/domino/data/GW1/preprocessing/20201007', '-output', '20201007_GW1_01', '-highpass', '0', '-lowpass', '400', '-interp', '0', '-userefs', '0', '-outputrate', '1500']\n",
      "(ID: 0) Processing LFP...\n",
      "(ID: 0) 0 %\n",
      "(ID: 0) 5 %\n",
      "(ID: 0) 10 %\n",
      "(ID: 0) 15 %\n",
      "(ID: 0) 20 %\n",
      "(ID: 0) 25 %\n",
      "(ID: 0) 30 %\n",
      "(ID: 0) 35 %\n",
      "(ID: 0) 40 %\n",
      "(ID: 0) 44 %\n",
      "(ID: 0) 50 %\n",
      "(ID: 0) 55 %\n",
      "(ID: 0) 60 %\n",
      "(ID: 0) 65 %\n",
      "(ID: 0) 70 %\n",
      "(ID: 0) 75 %\n",
      "(ID: 0) 80 %\n",
      "(ID: 0) 85 %\n",
      "(ID: 0) 90 %\n",
      "(ID: 0) 94 %\n",
      "(ID: 0) \n",
      "(ID: 0) Done\n",
      "(ID: 0) Running exportmda on animal GW1 date 20201007 epoch 01\n",
      "(ID: 0) Full command: ['exportmda', '-rec', '/mnt/domino/data/GW1/raw/20201007/20201007_GW1_01.rec', '-outputdirectory', '/mnt/domino/data/GW1/preprocessing/20201007', '-output', '20201007_GW1_01', '-usespikefilters', '0', '-interp', '1', '-userefs', '0']\n"
     ]
    },
    {
     "name": "stderr",
     "output_type": "stream",
     "text": [
      "16-Oct-20 13:14:53 Extracting spikes...\n"
     ]
    },
    {
     "name": "stdout",
     "output_type": "stream",
     "text": [
      "(ID: 0) Done running ['exportmda', '-rec', '/mnt/domino/data/GW1/raw/20201007/20201007_GW1_01.rec', '-outputdirectory', '/mnt/domino/data/GW1/preprocessing/20201007', '-output', '20201007_GW1_01', '-usespikefilters', '0', '-interp', '1', '-userefs', '0']\n",
      "(ID: 0) For backwards compatibility, uselfpfilters and usespikefilters flags both set to 0.\n",
      "(ID: 0) Exporting to MDA format file...\n",
      "(ID: 0) 0 %\n",
      "(ID: 0) 5 %\n",
      "(ID: 0) 10 %\n",
      "(ID: 0) 15 %\n",
      "(ID: 0) 20 %\n",
      "(ID: 0) 25 %\n",
      "(ID: 0) 30 %\n",
      "(ID: 0) 35 %\n",
      "(ID: 0) 40 %\n",
      "(ID: 0) 44 %\n",
      "(ID: 0) 50 %\n",
      "(ID: 0) 55 %\n",
      "(ID: 0) 60 %\n",
      "(ID: 0) 65 %\n",
      "(ID: 0) 70 %\n",
      "(ID: 0) 75 %\n",
      "(ID: 0) 80 %\n",
      "(ID: 0) 85 %\n",
      "(ID: 0) 90 %\n",
      "(ID: 0) 94 %\n",
      "(ID: 0) \n",
      "(ID: 0) Done\n",
      "(ID: 0) Running exportspikes on animal GW1 date 20201007 epoch 01\n",
      "(ID: 0) Full command: ['exportspikes', '-rec', '/mnt/domino/data/GW1/raw/20201007/20201007_GW1_01.rec', '-outputdirectory', '/mnt/domino/data/GW1/preprocessing/20201007', '-output', '20201007_GW1_01']\n"
     ]
    },
    {
     "name": "stderr",
     "output_type": "stream",
     "text": [
      "16-Oct-20 13:14:56 Extracting time...\n"
     ]
    },
    {
     "name": "stdout",
     "output_type": "stream",
     "text": [
      "(ID: 0) Done running ['exportspikes', '-rec', '/mnt/domino/data/GW1/raw/20201007/20201007_GW1_01.rec', '-outputdirectory', '/mnt/domino/data/GW1/preprocessing/20201007', '-output', '20201007_GW1_01']\n",
      "(ID: 0) Exporting to spike waveform data...\n",
      "(ID: 0) 0 %\n",
      "(ID: 0) 5 %\n",
      "(ID: 0) 10 %\n",
      "(ID: 0) 15 %\n",
      "(ID: 0) 20 %\n",
      "(ID: 0) 25 %\n",
      "(ID: 0) 30 %\n",
      "(ID: 0) 35 %\n",
      "(ID: 0) 40 %\n",
      "(ID: 0) 44 %\n",
      "(ID: 0) 50 %\n",
      "(ID: 0) 55 %\n",
      "(ID: 0) 60 %\n",
      "(ID: 0) 65 %\n",
      "(ID: 0) 70 %\n",
      "(ID: 0) 75 %\n",
      "(ID: 0) 80 %\n",
      "(ID: 0) 85 %\n",
      "(ID: 0) 90 %\n",
      "(ID: 0) 94 %\n",
      "(ID: 0) \n",
      "(ID: 0) Done\n",
      "(ID: 0) Running exporttime on animal GW1 date 20201007 epoch 01\n",
      "(ID: 0) Full command: ['exporttime', '-rec', '/mnt/domino/data/GW1/raw/20201007/20201007_GW1_01.rec', '-outputdirectory', '/mnt/domino/data/GW1/preprocessing/20201007', '-output', '20201007_GW1_01']\n",
      "(ID: 0) Done running ['exporttime', '-rec', '/mnt/domino/data/GW1/raw/20201007/20201007_GW1_01.rec', '-outputdirectory', '/mnt/domino/data/GW1/preprocessing/20201007', '-output', '20201007_GW1_01']\n",
      "(ID: 0) Exporting continuous time period data...\n",
      "(ID: 0) File contains system clock information.\n",
      "(ID: 0) 0 %\n",
      "(ID: 0) 5 %\n",
      "(ID: 0) 10 %\n",
      "(ID: 0) 15 %\n",
      "(ID: 0) 20 %\n",
      "(ID: 0) 25 %\n",
      "(ID: 0) 30 %\n",
      "(ID: 0) 35 %\n",
      "(ID: 0) 40 %\n",
      "(ID: 0) 44 %\n",
      "(ID: 0) 50 %\n",
      "(ID: 0) 55 %\n",
      "(ID: 0) 60 %\n",
      "(ID: 0) 65 %\n",
      "(ID: 0) 70 %\n",
      "(ID: 0) 75 %\n",
      "(ID: 0) 80 %\n",
      "(ID: 0) 85 %\n",
      "(ID: 0) 90 %\n",
      "(ID: 0) 94 %\n",
      "(ID: 0) \n",
      "(ID: 0) Done\n"
     ]
    },
    {
     "name": "stderr",
     "output_type": "stream",
     "text": [
      "/home/droumis/miniconda3/envs/rec_to_binaries/lib/python3.8/site-packages/rec_to_binaries/read_binaries.py:70: FutureWarning: Passing (type, 1) or '1type' as a synonym of type is deprecated; in a future version of numpy, it will be understood as (type, (1,)) / '(1,)type'.\n",
      "  return np.dtype(typearr)\n",
      "16-Oct-20 13:15:13 Making position directory...\n",
      "/home/droumis/miniconda3/envs/rec_to_binaries/lib/python3.8/site-packages/rec_to_binaries/trodes_data.py:1168: TrodesDataFormatWarning: KeyError('Raw/online position tracking file does not exist for animal (GW1), date (20201007) and epoch (1).') (thrown from /home/droumis/miniconda3/envs/rec_to_binaries/lib/python3.8/site-packages/rec_to_binaries/trodes_data.py:1152)\n",
      "  warnings.warn(repr(err) + ' (thrown from {}:{})'\n"
     ]
    }
   ],
   "source": [
    "extract_trodes_rec_file(data_dir, animal, parallel_instances=4,\n",
    "                        extract_analog=True,\n",
    "                        extract_spikes=True,\n",
    "                        extract_lfps=True,\n",
    "                        extract_dio=True,\n",
    "                        extract_time=True,\n",
    "                        extract_mda=True,\n",
    "                        overwrite=True,\n",
    "                        make_pos_dir=True)"
   ]
  },
  {
   "cell_type": "markdown",
   "metadata": {
    "jupyter": {
     "source_hidden": true
    }
   },
   "source": [
    "```python\n",
    "extract_trodes_rec_file(\n",
    "    data_dir,\n",
    "    animal,\n",
    "    lfp_export_args=('-highpass', '0', '-lowpass', '400', '-interp', '0', '-userefs', '0', '-outputrate', '1500'),\n",
    "    mda_export_args=('-usespikefilters', '0', '-interp', '500', '-userefs', '0'),\n",
    "    analog_export_args=(),\n",
    "    dio_export_args=(),\n",
    "    spikes_export_args=(),\n",
    "    time_export_args=(),\n",
    "    make_HDF5=False,\n",
    "    extract_analog=False,\n",
    "    extract_spikes=False,\n",
    "    extract_lfps=False,\n",
    "    extract_dio=False,\n",
    "    extract_time=False,\n",
    "    extract_mda=False,\n",
    "    adjust_timestamps_for_mcu_lag=True,\n",
    "    make_mountain_dir=False,\n",
    "    make_pos_dir=True,\n",
    "    overwrite=False,\n",
    "    stop_error=False,\n",
    "    use_folder_date=False,\n",
    "    parallel_instances=1,\n",
    "    use_day_config=True,\n",
    ")\n",
    "```"
   ]
  },
  {
   "cell_type": "code",
   "execution_count": 8,
   "metadata": {},
   "outputs": [
    {
     "name": "stdout",
     "output_type": "stream",
     "text": [
      "/mnt/domino/data/GW1/raw/20201007\n"
     ]
    }
   ],
   "source": [
    "cd /mnt/domino/data/GW1/raw/20201007"
   ]
  },
  {
   "cell_type": "code",
   "execution_count": 9,
   "metadata": {},
   "outputs": [
    {
     "name": "stdout",
     "output_type": "stream",
     "text": [
      "ffmpeg version 3.4.8-0ubuntu0.2 Copyright (c) 2000-2020 the FFmpeg developers\n",
      "  built with gcc 7 (Ubuntu 7.5.0-3ubuntu1~18.04)\n",
      "  configuration: --prefix=/usr --extra-version=0ubuntu0.2 --toolchain=hardened --libdir=/usr/lib/x86_64-linux-gnu --incdir=/usr/include/x86_64-linux-gnu --enable-gpl --disable-stripping --enable-avresample --enable-avisynth --enable-gnutls --enable-ladspa --enable-libass --enable-libbluray --enable-libbs2b --enable-libcaca --enable-libcdio --enable-libflite --enable-libfontconfig --enable-libfreetype --enable-libfribidi --enable-libgme --enable-libgsm --enable-libmp3lame --enable-libmysofa --enable-libopenjpeg --enable-libopenmpt --enable-libopus --enable-libpulse --enable-librubberband --enable-librsvg --enable-libshine --enable-libsnappy --enable-libsoxr --enable-libspeex --enable-libssh --enable-libtheora --enable-libtwolame --enable-libvorbis --enable-libvpx --enable-libwavpack --enable-libwebp --enable-libx265 --enable-libxml2 --enable-libxvid --enable-libzmq --enable-libzvbi --enable-omx --enable-openal --enable-opengl --enable-sdl2 --enable-libdc1394 --enable-libdrm --enable-libiec61883 --enable-chromaprint --enable-frei0r --enable-libopencv --enable-libx264 --enable-shared\n",
      "  libavutil      55. 78.100 / 55. 78.100\n",
      "  libavcodec     57.107.100 / 57.107.100\n",
      "  libavformat    57. 83.100 / 57. 83.100\n",
      "  libavdevice    57. 10.100 / 57. 10.100\n",
      "  libavfilter     6.107.100 /  6.107.100\n",
      "  libavresample   3.  7.  0 /  3.  7.  0\n",
      "  libswscale      4.  8.100 /  4.  8.100\n",
      "  libswresample   2.  9.100 /  2.  9.100\n",
      "  libpostproc    54.  7.100 / 54.  7.100\n",
      "Input #0, h264, from '20201007_GW1_01.1.h264':\n",
      "  Duration: N/A, bitrate: N/A\n",
      "    Stream #0:0: Video: h264 (Constrained Baseline), yuv420p(progressive), 500x300, 121.52 fps, 129 tbr, 1200k tbn, 258 tbc\n",
      "\u001b[4;31mAt least one output file must be specified\n",
      "\u001b[0m"
     ]
    }
   ],
   "source": [
    "!ffmpeg -i 20201007_GW1_01.1.h264"
   ]
  },
  {
   "cell_type": "code",
   "execution_count": 10,
   "metadata": {},
   "outputs": [
    {
     "name": "stdout",
     "output_type": "stream",
     "text": [
      "ffmpeg version 3.4.8-0ubuntu0.2 Copyright (c) 2000-2020 the FFmpeg developers\n",
      "  built with gcc 7 (Ubuntu 7.5.0-3ubuntu1~18.04)\n",
      "  configuration: --prefix=/usr --extra-version=0ubuntu0.2 --toolchain=hardened --libdir=/usr/lib/x86_64-linux-gnu --incdir=/usr/include/x86_64-linux-gnu --enable-gpl --disable-stripping --enable-avresample --enable-avisynth --enable-gnutls --enable-ladspa --enable-libass --enable-libbluray --enable-libbs2b --enable-libcaca --enable-libcdio --enable-libflite --enable-libfontconfig --enable-libfreetype --enable-libfribidi --enable-libgme --enable-libgsm --enable-libmp3lame --enable-libmysofa --enable-libopenjpeg --enable-libopenmpt --enable-libopus --enable-libpulse --enable-librubberband --enable-librsvg --enable-libshine --enable-libsnappy --enable-libsoxr --enable-libspeex --enable-libssh --enable-libtheora --enable-libtwolame --enable-libvorbis --enable-libvpx --enable-libwavpack --enable-libwebp --enable-libx265 --enable-libxml2 --enable-libxvid --enable-libzmq --enable-libzvbi --enable-omx --enable-openal --enable-opengl --enable-sdl2 --enable-libdc1394 --enable-libdrm --enable-libiec61883 --enable-chromaprint --enable-frei0r --enable-libopencv --enable-libx264 --enable-shared\n",
      "  libavutil      55. 78.100 / 55. 78.100\n",
      "  libavcodec     57.107.100 / 57.107.100\n",
      "  libavformat    57. 83.100 / 57. 83.100\n",
      "  libavdevice    57. 10.100 / 57. 10.100\n",
      "  libavfilter     6.107.100 /  6.107.100\n",
      "  libavresample   3.  7.  0 /  3.  7.  0\n",
      "  libswscale      4.  8.100 /  4.  8.100\n",
      "  libswresample   2.  9.100 /  2.  9.100\n",
      "  libpostproc    54.  7.100 / 54.  7.100\n",
      "Input #0, h264, from '20201007_GW1_01.1.h264':\n",
      "  Duration: N/A, bitrate: N/A\n",
      "    Stream #0:0: Video: h264 (Constrained Baseline), yuv420p(progressive), 500x300, 121.52 fps, 129 tbr, 1200k tbn, 258 tbc\n",
      "Output #0, mp4, to '/mnt/domino/data/GW1/preprocessing/20201007/20201007_GW1_01.1.pos/20201007_GW1_01.1.mp4':\n",
      "  Metadata:\n",
      "    encoder         : Lavf57.83.100\n",
      "    Stream #0:0: Video: h264 (Constrained Baseline) (avc1 / 0x31637661), yuv420p(progressive), 500x300, q=2-31, 121.52 fps, 129 tbr, 12152 tbn, 121.52 tbc\n",
      "Stream mapping:\n",
      "  Stream #0:0 -> #0:0 (copy)\n",
      "Press [q] to stop, [?] for help\n",
      "\u001b[1;35m[mp4 @ 0x556e615ce2c0] \u001b[0m\u001b[0;33mTimestamps are unset in a packet for stream 0. This is deprecated and will stop working in the future. Fix your code to set the timestamps properly\n",
      "frame=160502 fps=0.0 q=-1.0 Lsize=   49303kB time=00:22:00.77 bitrate= 305.8kbits/s speed=1.81e+03x       \n",
      "video:48667kB audio:0kB subtitle:0kB other streams:0kB global headers:0kB muxing overhead: 1.306430%\n"
     ]
    }
   ],
   "source": [
    "!ffmpeg -r 121.52 -i 20201007_GW1_01.1.h264 -codec copy /mnt/domino/data/GW1/preprocessing/20201007/20201007_GW1_01.1.pos/20201007_GW1_01.1.mp4"
   ]
  },
  {
   "cell_type": "code",
   "execution_count": 11,
   "metadata": {},
   "outputs": [
    {
     "name": "stdout",
     "output_type": "stream",
     "text": [
      "/mnt/domino/data/GW1/preprocessing/20201007/20201007_GW1_01.1.pos\n"
     ]
    }
   ],
   "source": [
    "cd /mnt/domino/data/GW1/preprocessing/20201007/20201007_GW1_01.1.pos/"
   ]
  },
  {
   "cell_type": "code",
   "execution_count": 13,
   "metadata": {},
   "outputs": [
    {
     "name": "stdout",
     "output_type": "stream",
     "text": [
      "ffmpeg version 3.4.8-0ubuntu0.2 Copyright (c) 2000-2020 the FFmpeg developers\n",
      "  built with gcc 7 (Ubuntu 7.5.0-3ubuntu1~18.04)\n",
      "  configuration: --prefix=/usr --extra-version=0ubuntu0.2 --toolchain=hardened --libdir=/usr/lib/x86_64-linux-gnu --incdir=/usr/include/x86_64-linux-gnu --enable-gpl --disable-stripping --enable-avresample --enable-avisynth --enable-gnutls --enable-ladspa --enable-libass --enable-libbluray --enable-libbs2b --enable-libcaca --enable-libcdio --enable-libflite --enable-libfontconfig --enable-libfreetype --enable-libfribidi --enable-libgme --enable-libgsm --enable-libmp3lame --enable-libmysofa --enable-libopenjpeg --enable-libopenmpt --enable-libopus --enable-libpulse --enable-librubberband --enable-librsvg --enable-libshine --enable-libsnappy --enable-libsoxr --enable-libspeex --enable-libssh --enable-libtheora --enable-libtwolame --enable-libvorbis --enable-libvpx --enable-libwavpack --enable-libwebp --enable-libx265 --enable-libxml2 --enable-libxvid --enable-libzmq --enable-libzvbi --enable-omx --enable-openal --enable-opengl --enable-sdl2 --enable-libdc1394 --enable-libdrm --enable-libiec61883 --enable-chromaprint --enable-frei0r --enable-libopencv --enable-libx264 --enable-shared\n",
      "  libavutil      55. 78.100 / 55. 78.100\n",
      "  libavcodec     57.107.100 / 57.107.100\n",
      "  libavformat    57. 83.100 / 57. 83.100\n",
      "  libavdevice    57. 10.100 / 57. 10.100\n",
      "  libavfilter     6.107.100 /  6.107.100\n",
      "  libavresample   3.  7.  0 /  3.  7.  0\n",
      "  libswscale      4.  8.100 /  4.  8.100\n",
      "  libswresample   2.  9.100 /  2.  9.100\n",
      "  libpostproc    54.  7.100 / 54.  7.100\n",
      "Input #0, mov,mp4,m4a,3gp,3g2,mj2, from '20201007_GW1_01.1.mp4':\n",
      "  Metadata:\n",
      "    major_brand     : isom\n",
      "    minor_version   : 512\n",
      "    compatible_brands: isomiso2avc1mp41\n",
      "    encoder         : Lavf57.83.100\n",
      "  Duration: 00:22:00.79, start: 0.000000, bitrate: 305 kb/s\n",
      "    Stream #0:0(und): Video: h264 (Constrained Baseline) (avc1 / 0x31637661), yuv420p, 500x300, 301 kb/s, 121.52 fps, 121.52 tbr, 12152 tbn, 258 tbc (default)\n",
      "    Metadata:\n",
      "      handler_name    : VideoHandler\n",
      "Stream mapping:\n",
      "  Stream #0:0 -> #0:0 (h264 (native) -> h264 (libx264))\n",
      "Press [q] to stop, [?] for help\n",
      "\u001b[1;36m[libx264 @ 0x560f1e918f60] \u001b[0musing cpu capabilities: MMX2 SSE2Fast SSSE3 SSE4.2 AVX FMA3 BMI2 AVX2\n",
      "\u001b[1;36m[libx264 @ 0x560f1e918f60] \u001b[0mprofile High, level 3.1\n",
      "\u001b[1;36m[libx264 @ 0x560f1e918f60] \u001b[0m264 - core 152 r2854 e9a5903 - H.264/MPEG-4 AVC codec - Copyleft 2003-2017 - http://www.videolan.org/x264.html - options: cabac=1 ref=3 deblock=1:0:0 analyse=0x3:0x113 me=hex subme=7 psy=1 psy_rd=1.00:0.00 mixed_ref=1 me_range=16 chroma_me=1 trellis=1 8x8dct=1 cqm=0 deadzone=21,11 fast_pskip=1 chroma_qp_offset=-2 threads=9 lookahead_threads=1 sliced_threads=0 nr=0 decimate=1 interlaced=0 bluray_compat=0 constrained_intra=0 bframes=3 b_pyramid=2 b_adapt=1 b_bias=0 direct=1 weightb=1 open_gop=0 weightp=2 keyint=250 keyint_min=25 scenecut=40 intra_refresh=0 rc_lookahead=40 rc=crf mbtree=1 crf=23.0 qcomp=0.60 qpmin=0 qpmax=69 qpstep=4 ip_ratio=1.40 aq=1:1.00\n",
      "Output #0, mp4, to '20201007_GW1_01.2.mp4':\n",
      "  Metadata:\n",
      "    major_brand     : isom\n",
      "    minor_version   : 512\n",
      "    compatible_brands: isomiso2avc1mp41\n",
      "    encoder         : Lavf57.83.100\n",
      "    Stream #0:0(und): Video: h264 (libx264) (avc1 / 0x31637661), yuv420p, 500x300, q=-1--1, 121.52 fps, 12152 tbn, 121.52 tbc (default)\n",
      "    Metadata:\n",
      "      handler_name    : VideoHandler\n",
      "      encoder         : Lavc57.107.100 libx264\n",
      "    Side data:\n",
      "      cpb: bitrate max/min/avg: 0/0/0 buffer size: 0 vbv_delay: -1\n",
      "frame=160502 fps=598 q=-1.0 Lsize=   39711kB time=00:22:00.76 bitrate= 246.3kbits/s speed=4.92x    \n",
      "video:37887kB audio:0kB subtitle:0kB other streams:0kB global headers:0kB muxing overhead: 4.814898%\n",
      "\u001b[1;36m[libx264 @ 0x560f1e918f60] \u001b[0mframe I:647   Avg QP:19.73  size:  8200\n",
      "\u001b[1;36m[libx264 @ 0x560f1e918f60] \u001b[0mframe P:48215 Avg QP:23.36  size:   533\n",
      "\u001b[1;36m[libx264 @ 0x560f1e918f60] \u001b[0mframe B:111640 Avg QP:24.55  size:    70\n",
      "\u001b[1;36m[libx264 @ 0x560f1e918f60] \u001b[0mconsecutive B-frames:  5.7%  3.3%  4.5% 86.6%\n",
      "\u001b[1;36m[libx264 @ 0x560f1e918f60] \u001b[0mmb I  I16..4: 16.7% 63.1% 20.2%\n",
      "\u001b[1;36m[libx264 @ 0x560f1e918f60] \u001b[0mmb P  I16..4:  1.3%  1.1%  0.0%  P16..4: 19.1%  2.3%  1.0%  0.0%  0.0%    skip:75.1%\n",
      "\u001b[1;36m[libx264 @ 0x560f1e918f60] \u001b[0mmb B  I16..4:  0.0%  0.0%  0.0%  B16..8:  7.0%  0.1%  0.0%  direct: 0.0%  skip:92.9%  L0:38.2% L1:61.4% BI: 0.4%\n",
      "\u001b[1;36m[libx264 @ 0x560f1e918f60] \u001b[0m8x8 transform intra:51.8% inter:86.8%\n",
      "\u001b[1;36m[libx264 @ 0x560f1e918f60] \u001b[0mcoded y,uvDC,uvAC intra: 30.6% 57.1% 22.4% inter: 1.2% 2.9% 0.1%\n",
      "\u001b[1;36m[libx264 @ 0x560f1e918f60] \u001b[0mi16 v,h,dc,p: 38% 28% 18% 16%\n",
      "\u001b[1;36m[libx264 @ 0x560f1e918f60] \u001b[0mi8 v,h,dc,ddl,ddr,vr,hd,vl,hu: 21% 23% 35%  3%  3%  3%  3%  2%  7%\n",
      "\u001b[1;36m[libx264 @ 0x560f1e918f60] \u001b[0mi4 v,h,dc,ddl,ddr,vr,hd,vl,hu: 27% 35% 11%  3%  5%  4%  3%  2% 11%\n",
      "\u001b[1;36m[libx264 @ 0x560f1e918f60] \u001b[0mi8c dc,h,v,p: 50% 23% 21%  6%\n",
      "\u001b[1;36m[libx264 @ 0x560f1e918f60] \u001b[0mWeighted P-Frames: Y:0.0% UV:0.0%\n",
      "\u001b[1;36m[libx264 @ 0x560f1e918f60] \u001b[0mref P L0: 73.4%  9.2% 13.0%  4.5%\n",
      "\u001b[1;36m[libx264 @ 0x560f1e918f60] \u001b[0mref B L0: 85.4% 12.4%  2.3%\n",
      "\u001b[1;36m[libx264 @ 0x560f1e918f60] \u001b[0mref B L1: 96.6%  3.4%\n",
      "\u001b[1;36m[libx264 @ 0x560f1e918f60] \u001b[0mkb/s:234.98\n"
     ]
    }
   ],
   "source": [
    "!ffmpeg -i 20201007_GW1_01.1.mp4 -vf \"vflip,format=yuv420p\" -metadata:s:v rotate=0 -codec:v libx264 -codec:a copy 20201007_GW1_01.2.mp4"
   ]
  },
  {
   "cell_type": "code",
   "execution_count": null,
   "metadata": {},
   "outputs": [],
   "source": []
  }
 ],
 "metadata": {
  "kernelspec": {
   "display_name": "Python [conda env:rec_to_binaries]",
   "language": "python",
   "name": "conda-env-rec_to_binaries-py"
  },
  "language_info": {
   "codemirror_mode": {
    "name": "ipython",
    "version": 3
   },
   "file_extension": ".py",
   "mimetype": "text/x-python",
   "name": "python",
   "nbconvert_exporter": "python",
   "pygments_lexer": "ipython3",
   "version": "3.8.3"
  }
 },
 "nbformat": 4,
 "nbformat_minor": 4
}
